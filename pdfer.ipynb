{
 "cells": [
  {
   "cell_type": "code",
   "execution_count": null,
   "metadata": {},
   "outputs": [],
   "source": [
    "#saves selected figures in single pdf\n",
    "from matplotlib.backends.backend_pdf import PdfPages  \n",
    "fig=frames.plot.box().get_figure()\n",
    "fig2=frames.plot.hist().get_figure()\n",
    "fig3=frames.plot.kde(bw_method=0.3).get_figure()\n",
    "fig4=Tframe.plot.kde(bw_method=0.3).get_figure()\n",
    "fig5=Tframe.plot.hist().get_figure()\n",
    "fig6=Tframe.plot.box().get_figure()\n",
    "fig7, ax =plt.subplots(figsize=(12,4))\n",
    "ax.axis('tight')\n",
    "ax.axis('off')\n",
    "tf = ax.table(cellText=TovFinal.values,colLabels=TovFinal.columns,loc='center')\n",
    "fig8, ax =plt.subplots(figsize=(12,4))\n",
    "ax.axis('tight')\n",
    "ax.axis('off')\n",
    "hf = ax.table(cellText=HaslaF.values,colLabels=HaslaF.columns,loc='center')\n",
    "fig9, ax =plt.subplots(figsize=(12,4))\n",
    "ax.axis('tight')\n",
    "ax.axis('off')\n",
    "kp = ax.table(cellText=Kenpom.values,colLabels=Kenpom.columns,loc='center')\n",
    "fig10, ax =plt.subplots(figsize=(12,4))\n",
    "ax.axis('tight')\n",
    "ax.axis('off')\n",
    "fd = ax.table(cellText=Fanduel.values,colLabels=Fanduel.columns,loc='center')\n",
    "\n",
    "pp = PdfPages('foo0.pdf')\n",
    "pp.savefig(fig)\n",
    "pp.savefig(fig2)\n",
    "pp.savefig(fig3)\n",
    "pp.savefig(fig4)\n",
    "pp.savefig(fig5)\n",
    "pp.savefig(fig6)\n",
    "pp.savefig(fig7,bbox_inches='tight')\n",
    "pp.savefig(fig8,bbox_inches='tight')\n",
    "pp.savefig(fig9,bbox_inches='tight')\n",
    "pp.savefig(fig10,bbox_inches='tight')\n",
    "pp.close()"
   ]
  }
 ],
 "metadata": {
  "kernelspec": {
   "display_name": "Python 3",
   "language": "python",
   "name": "python3"
  },
  "language_info": {
   "codemirror_mode": {
    "name": "ipython",
    "version": 3
   },
   "file_extension": ".py",
   "mimetype": "text/x-python",
   "name": "python",
   "nbconvert_exporter": "python",
   "pygments_lexer": "ipython3",
   "version": "3.8.5"
  }
 },
 "nbformat": 4,
 "nbformat_minor": 4
}
